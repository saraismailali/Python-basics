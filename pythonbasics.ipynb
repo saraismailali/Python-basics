{
 "cells": [
  {
   "cell_type": "markdown",
   "id": "4d312d89",
   "metadata": {},
   "source": [
    "# Python variables and Data Types"
   ]
  },
  {
   "cell_type": "markdown",
   "id": "a283bf42",
   "metadata": {},
   "source": [
    "Create a variable with name x and a value of 10. Execute.\n",
    "\n",
    "Tell the computer to show you the value of that variable without utilizing the print() function, similar to what you would do in Jupyter."
   ]
  },
  {
   "cell_type": "code",
   "execution_count": 11,
   "id": "adc2f6ee",
   "metadata": {},
   "outputs": [],
   "source": [
    "x = 10"
   ]
  },
  {
   "cell_type": "code",
   "execution_count": 12,
   "id": "7e9458ed",
   "metadata": {},
   "outputs": [
    {
     "name": "stdout",
     "output_type": "stream",
     "text": [
      "10\n"
     ]
    }
   ],
   "source": [
    "print(x)"
   ]
  },
  {
   "cell_type": "markdown",
   "id": "5f1bfaba",
   "metadata": {},
   "source": [
    "Create a variable with name x and a value of 10. Execute"
   ]
  },
  {
   "cell_type": "code",
   "execution_count": 13,
   "id": "c83e68e0",
   "metadata": {},
   "outputs": [
    {
     "data": {
      "text/plain": [
       "10"
      ]
     },
     "execution_count": 13,
     "metadata": {},
     "output_type": "execute_result"
    }
   ],
   "source": [
    "x=10\n",
    "x"
   ]
  },
  {
   "cell_type": "markdown",
   "id": "3c9ef8a6",
   "metadata": {},
   "source": [
    "On the same line, create four new variables: a, b, c, and d, that are equal to 10, 20, 30, and 40, respectively."
   ]
  },
  {
   "cell_type": "code",
   "execution_count": 14,
   "id": "14acf8dc",
   "metadata": {},
   "outputs": [],
   "source": [
    "a,b,c,d = (10,20,30,40)"
   ]
  },
  {
   "cell_type": "markdown",
   "id": "01008036",
   "metadata": {},
   "source": [
    "On the same line, create four new variables: a, b, c, and d, that are equal to 10, 20, 30, and 40, respectively.\n",
    "Tell the computer to show you the value corresponding to the variable b.\n",
    "Do the same for d."
   ]
  },
  {
   "cell_type": "code",
   "execution_count": 15,
   "id": "ba777b86",
   "metadata": {},
   "outputs": [
    {
     "data": {
      "text/plain": [
       "40"
      ]
     },
     "execution_count": 15,
     "metadata": {},
     "output_type": "execute_result"
    }
   ],
   "source": [
    "a,b,c,d= (10,20,30,40)"
   ]
  },
  {
   "cell_type": "code",
   "execution_count": 16,
   "id": "4fa3c20b",
   "metadata": {},
   "outputs": [
    {
     "data": {
      "text/plain": [
       "20"
      ]
     },
     "execution_count": 16,
     "metadata": {},
     "output_type": "execute_result"
    }
   ],
   "source": [
    "b"
   ]
  },
  {
   "cell_type": "code",
   "execution_count": 17,
   "id": "f263ab84",
   "metadata": {},
   "outputs": [
    {
     "data": {
      "text/plain": [
       "40"
      ]
     },
     "execution_count": 17,
     "metadata": {},
     "output_type": "execute_result"
    }
   ],
   "source": [
    "d"
   ]
  },
  {
   "cell_type": "markdown",
   "id": "b0b3421f",
   "metadata": {},
   "source": [
    "Create a variable a equal to \"True\".\n",
    "Check its type."
   ]
  },
  {
   "cell_type": "code",
   "execution_count": 18,
   "id": "475f4cb2",
   "metadata": {},
   "outputs": [],
   "source": [
    "x1= True"
   ]
  },
  {
   "cell_type": "code",
   "execution_count": 19,
   "id": "850d2cf3",
   "metadata": {},
   "outputs": [
    {
     "data": {
      "text/plain": [
       "bool"
      ]
     },
     "execution_count": 19,
     "metadata": {},
     "output_type": "execute_result"
    }
   ],
   "source": [
    "type(x1)"
   ]
  },
  {
   "cell_type": "markdown",
   "id": "4fa98995",
   "metadata": {},
   "source": [
    "Create a variable b equal to 99.\n",
    "Check its type."
   ]
  },
  {
   "cell_type": "code",
   "execution_count": 20,
   "id": "49b9e449",
   "metadata": {},
   "outputs": [],
   "source": [
    "b=99"
   ]
  },
  {
   "cell_type": "code",
   "execution_count": 21,
   "id": "495d9777",
   "metadata": {},
   "outputs": [
    {
     "data": {
      "text/plain": [
       "int"
      ]
     },
     "execution_count": 21,
     "metadata": {},
     "output_type": "execute_result"
    }
   ],
   "source": [
    "type(b)"
   ]
  },
  {
   "cell_type": "markdown",
   "id": "d00b31c7",
   "metadata": {},
   "source": [
    "Check the type of the value 0.99."
   ]
  },
  {
   "cell_type": "code",
   "execution_count": 22,
   "id": "ad1a16d1",
   "metadata": {},
   "outputs": [
    {
     "data": {
      "text/plain": [
       "float"
      ]
     },
     "execution_count": 22,
     "metadata": {},
     "output_type": "execute_result"
    }
   ],
   "source": [
    "type(0.99)"
   ]
  },
  {
   "cell_type": "markdown",
   "id": "f7f73486",
   "metadata": {},
   "source": [
    "Create a variable b equal to 99.\n",
    "Turn b into a float.\n",
    "Consider using the print() function as a tool to \n",
    "help you solve this exercise."
   ]
  },
  {
   "cell_type": "code",
   "execution_count": 24,
   "id": "89d254f1",
   "metadata": {},
   "outputs": [
    {
     "name": "stdout",
     "output_type": "stream",
     "text": [
      "99.0\n"
     ]
    }
   ],
   "source": [
    "b=99\n",
    "print(float(b))"
   ]
  },
  {
   "cell_type": "code",
   "execution_count": 25,
   "id": "59b694cc",
   "metadata": {},
   "outputs": [
    {
     "data": {
      "text/plain": [
       "0"
      ]
     },
     "execution_count": 25,
     "metadata": {},
     "output_type": "execute_result"
    }
   ],
   "source": [
    "int(0.99)"
   ]
  },
  {
   "cell_type": "markdown",
   "id": "b3f7f9ce",
   "metadata": {},
   "source": [
    "Assign the value of 100 to the variable m.\n",
    "\n",
    "With the help of the variable m, write one line of code where the output after execution would be 100 days.\n",
    "\n",
    "Hint: You could provide four answers to this question!"
   ]
  },
  {
   "cell_type": "code",
   "execution_count": 27,
   "id": "7183eec1",
   "metadata": {},
   "outputs": [
    {
     "name": "stdout",
     "output_type": "stream",
     "text": [
      "100 Days \n"
     ]
    }
   ],
   "source": [
    "m=100\n",
    "print(str(m)+' Days ')"
   ]
  },
  {
   "cell_type": "markdown",
   "id": "05691728",
   "metadata": {},
   "source": [
    "Produce an output equal to It's cool, isn't it? ."
   ]
  },
  {
   "cell_type": "code",
   "execution_count": 29,
   "id": "733ff3f7",
   "metadata": {},
   "outputs": [
    {
     "name": "stdout",
     "output_type": "stream",
     "text": [
      "It's cool, isn't it? .\n"
     ]
    }
   ],
   "source": [
    "print('It\\'s cool, isn\\'t it? .')"
   ]
  },
  {
   "cell_type": "code",
   "execution_count": 30,
   "id": "4c7e81ea",
   "metadata": {},
   "outputs": [
    {
     "data": {
      "text/plain": [
       "\"Don't be shy\""
      ]
     },
     "execution_count": 30,
     "metadata": {},
     "output_type": "execute_result"
    }
   ],
   "source": [
    " 'Don\\'t be shy'"
   ]
  },
  {
   "cell_type": "markdown",
   "id": "aab978f4",
   "metadata": {},
   "source": [
    "Produce an output equal to Click \"OK\"."
   ]
  },
  {
   "cell_type": "code",
   "execution_count": 38,
   "id": "b6e4c8a0",
   "metadata": {},
   "outputs": [
    {
     "data": {
      "text/plain": [
       "'Click \"OK\"'"
      ]
     },
     "execution_count": 38,
     "metadata": {},
     "output_type": "execute_result"
    }
   ],
   "source": [
    "'Click \"OK\"' "
   ]
  },
  {
   "cell_type": "markdown",
   "id": "7dc76c18",
   "metadata": {},
   "source": [
    "Include a plus sign in your line of code to produce 'Big Houses'.\n",
    "\n",
    "Include a trailing comma in your line of code to produce Big Houses.\n",
    "\n",
    "Please note: The output you produce should consist of two lines of code, each of which generates the same result."
   ]
  },
  {
   "cell_type": "code",
   "execution_count": 41,
   "id": "323ab845",
   "metadata": {},
   "outputs": [
    {
     "name": "stdout",
     "output_type": "stream",
     "text": [
      "Big Houses\n"
     ]
    }
   ],
   "source": [
    "print('Big' + ' Houses')"
   ]
  },
  {
   "cell_type": "code",
   "execution_count": 42,
   "id": "ac6dddc9",
   "metadata": {},
   "outputs": [
    {
     "name": "stdout",
     "output_type": "stream",
     "text": [
      "Big  Houses\n"
     ]
    }
   ],
   "source": [
    "print('Big' , ' Houses')"
   ]
  },
  {
   "cell_type": "markdown",
   "id": "015ee306",
   "metadata": {},
   "source": [
    "# Python syntax fundamentals"
   ]
  },
  {
   "cell_type": "markdown",
   "id": "5feff92e",
   "metadata": {},
   "source": [
    "Combine 15 and 23."
   ]
  },
  {
   "cell_type": "code",
   "execution_count": 43,
   "id": "be956a9b",
   "metadata": {},
   "outputs": [
    {
     "data": {
      "text/plain": [
       "38"
      ]
     },
     "execution_count": 43,
     "metadata": {},
     "output_type": "execute_result"
    }
   ],
   "source": [
    "15+23"
   ]
  },
  {
   "cell_type": "markdown",
   "id": "c616c827",
   "metadata": {},
   "source": [
    "Subtract 50 from 26."
   ]
  },
  {
   "cell_type": "code",
   "execution_count": 44,
   "id": "cfca80f1",
   "metadata": {},
   "outputs": [
    {
     "data": {
      "text/plain": [
       "24"
      ]
     },
     "execution_count": 44,
     "metadata": {},
     "output_type": "execute_result"
    }
   ],
   "source": [
    "50-26"
   ]
  },
  {
   "cell_type": "markdown",
   "id": "87af186e",
   "metadata": {},
   "source": [
    "Divide 20 by 4."
   ]
  },
  {
   "cell_type": "code",
   "execution_count": 46,
   "id": "808df994",
   "metadata": {},
   "outputs": [
    {
     "data": {
      "text/plain": [
       "5.0"
      ]
     },
     "execution_count": 46,
     "metadata": {},
     "output_type": "execute_result"
    }
   ],
   "source": [
    "20/4"
   ]
  },
  {
   "cell_type": "code",
   "execution_count": 47,
   "id": "226fbad6",
   "metadata": {},
   "outputs": [
    {
     "data": {
      "text/plain": [
       "5.5"
      ]
     },
     "execution_count": 47,
     "metadata": {},
     "output_type": "execute_result"
    }
   ],
   "source": [
    "22/4"
   ]
  },
  {
   "cell_type": "markdown",
   "id": "0f84279f",
   "metadata": {},
   "source": [
    "Obtain the remainder of the division of 22 by 4."
   ]
  },
  {
   "cell_type": "code",
   "execution_count": 48,
   "id": "9328b7c1",
   "metadata": {},
   "outputs": [
    {
     "data": {
      "text/plain": [
       "2"
      ]
     },
     "execution_count": 48,
     "metadata": {},
     "output_type": "execute_result"
    }
   ],
   "source": [
    "22%4"
   ]
  },
  {
   "cell_type": "markdown",
   "id": "1e6a730f",
   "metadata": {},
   "source": [
    "Divide the float 22 by 4."
   ]
  },
  {
   "cell_type": "code",
   "execution_count": 49,
   "id": "261f2dc3",
   "metadata": {},
   "outputs": [
    {
     "data": {
      "text/plain": [
       "5.5"
      ]
     },
     "execution_count": 49,
     "metadata": {},
     "output_type": "execute_result"
    }
   ],
   "source": [
    "float(22)/4"
   ]
  },
  {
   "cell_type": "markdown",
   "id": "adbd6781",
   "metadata": {},
   "source": [
    "Multiply 6 by 8."
   ]
  },
  {
   "cell_type": "code",
   "execution_count": 51,
   "id": "86e73016",
   "metadata": {},
   "outputs": [
    {
     "data": {
      "text/plain": [
       "48"
      ]
     },
     "execution_count": 51,
     "metadata": {},
     "output_type": "execute_result"
    }
   ],
   "source": [
    "6*8"
   ]
  },
  {
   "cell_type": "markdown",
   "id": "3045e20b",
   "metadata": {},
   "source": [
    "Raise 15 to the power of 2."
   ]
  },
  {
   "cell_type": "code",
   "execution_count": 52,
   "id": "411a68be",
   "metadata": {},
   "outputs": [
    {
     "data": {
      "text/plain": [
       "225"
      ]
     },
     "execution_count": 52,
     "metadata": {},
     "output_type": "execute_result"
    }
   ],
   "source": [
    "15**2"
   ]
  },
  {
   "cell_type": "markdown",
   "id": "f8770227",
   "metadata": {},
   "source": [
    "Demonstrate that 100 is not equal to 98."
   ]
  },
  {
   "cell_type": "code",
   "execution_count": 53,
   "id": "adee5e39",
   "metadata": {},
   "outputs": [
    {
     "data": {
      "text/plain": [
       "False"
      ]
     },
     "execution_count": 53,
     "metadata": {},
     "output_type": "execute_result"
    }
   ],
   "source": [
    "100==98"
   ]
  },
  {
   "cell_type": "markdown",
   "id": "5ba627d1",
   "metadata": {},
   "source": [
    "Assign the value of 14 to a variable p."
   ]
  },
  {
   "cell_type": "code",
   "execution_count": 54,
   "id": "67b436e2",
   "metadata": {},
   "outputs": [],
   "source": [
    "p=14"
   ]
  },
  {
   "cell_type": "markdown",
   "id": "4e9bc83b",
   "metadata": {},
   "source": [
    "Calculate p + 10."
   ]
  },
  {
   "cell_type": "code",
   "execution_count": 56,
   "id": "1dc594e1",
   "metadata": {},
   "outputs": [
    {
     "data": {
      "text/plain": [
       "24"
      ]
     },
     "execution_count": 56,
     "metadata": {},
     "output_type": "execute_result"
    }
   ],
   "source": [
    "p+10"
   ]
  },
  {
   "cell_type": "markdown",
   "id": "845ef66d",
   "metadata": {},
   "source": [
    "assign 30 to variable p"
   ]
  },
  {
   "cell_type": "code",
   "execution_count": 58,
   "id": "854c95ef",
   "metadata": {},
   "outputs": [],
   "source": [
    "p=30"
   ]
  },
  {
   "cell_type": "code",
   "execution_count": 59,
   "id": "37103e46",
   "metadata": {},
   "outputs": [
    {
     "data": {
      "text/plain": [
       "40"
      ]
     },
     "execution_count": 59,
     "metadata": {},
     "output_type": "execute_result"
    }
   ],
   "source": [
    "p+10"
   ]
  },
  {
   "cell_type": "code",
   "execution_count": 62,
   "id": "418a9d28",
   "metadata": {},
   "outputs": [
    {
     "data": {
      "text/plain": [
       "20"
      ]
     },
     "execution_count": 62,
     "metadata": {},
     "output_type": "execute_result"
    }
   ],
   "source": [
    "15 + 31 \\\n",
    "- 26"
   ]
  },
  {
   "cell_type": "markdown",
   "id": "d599316a",
   "metadata": {},
   "source": [
    "Extract the letter 'B' from \"Bingo!\"."
   ]
  },
  {
   "cell_type": "code",
   "execution_count": 63,
   "id": "5d1633b4",
   "metadata": {},
   "outputs": [
    {
     "data": {
      "text/plain": [
       "'B'"
      ]
     },
     "execution_count": 63,
     "metadata": {},
     "output_type": "execute_result"
    }
   ],
   "source": [
    "\"Bingo!\"[0]"
   ]
  },
  {
   "cell_type": "markdown",
   "id": "4d8d77e2",
   "metadata": {},
   "source": [
    "Extract the letter \"u\" from \"Constitution\"."
   ]
  },
  {
   "cell_type": "code",
   "execution_count": 64,
   "id": "69b3bd89",
   "metadata": {},
   "outputs": [
    {
     "data": {
      "text/plain": [
       "'u'"
      ]
     },
     "execution_count": 64,
     "metadata": {},
     "output_type": "execute_result"
    }
   ],
   "source": [
    "\"Constitution\"[7]"
   ]
  },
  {
   "cell_type": "markdown",
   "id": "83b3ea8f",
   "metadata": {},
   "source": [
    "Use indentation properly to print the result of a function called ten() which can be called with any value for the argument x."
   ]
  },
  {
   "cell_type": "code",
   "execution_count": 74,
   "id": "57999059",
   "metadata": {},
   "outputs": [
    {
     "name": "stdout",
     "output_type": "stream",
     "text": [
      "10\n"
     ]
    }
   ],
   "source": [
    "def ten(x):\n",
    "    x=10\n",
    "    return x\n",
    "print (ten(10))"
   ]
  },
  {
   "cell_type": "markdown",
   "id": "413284dd",
   "metadata": {},
   "source": [
    " # Python operators"
   ]
  },
  {
   "cell_type": "markdown",
   "id": "224ed4cd",
   "metadata": {},
   "source": [
    "Verify that 25 is smaller than 30."
   ]
  },
  {
   "cell_type": "code",
   "execution_count": 76,
   "id": "185a0870",
   "metadata": {},
   "outputs": [
    {
     "data": {
      "text/plain": [
       "True"
      ]
     },
     "execution_count": 76,
     "metadata": {},
     "output_type": "execute_result"
    }
   ],
   "source": [
    "25<30"
   ]
  },
  {
   "cell_type": "markdown",
   "id": "cefb7405",
   "metadata": {},
   "source": [
    "Verify that 5 multiplied by 3 is less than or equal to 5 to the power of 3."
   ]
  },
  {
   "cell_type": "code",
   "execution_count": 77,
   "id": "526b5b0d",
   "metadata": {},
   "outputs": [
    {
     "data": {
      "text/plain": [
       "True"
      ]
     },
     "execution_count": 77,
     "metadata": {},
     "output_type": "execute_result"
    }
   ],
   "source": [
    "5/3 <= 5**3"
   ]
  },
  {
   "cell_type": "markdown",
   "id": "6be6dedf",
   "metadata": {},
   "source": [
    "Verify that 100 is equal to 10 square."
   ]
  },
  {
   "cell_type": "code",
   "execution_count": 80,
   "id": "a39a3e85",
   "metadata": {},
   "outputs": [
    {
     "data": {
      "text/plain": [
       "True"
      ]
     },
     "execution_count": 80,
     "metadata": {},
     "output_type": "execute_result"
    }
   ],
   "source": [
    "100 == 10**2"
   ]
  },
  {
   "cell_type": "code",
   "execution_count": null,
   "id": "7ce0dc25",
   "metadata": {},
   "outputs": [],
   "source": [
    "Verify that 53 is not equal to 46."
   ]
  },
  {
   "cell_type": "code",
   "execution_count": 81,
   "id": "c56b32d7",
   "metadata": {},
   "outputs": [
    {
     "data": {
      "text/plain": [
       "True"
      ]
     },
     "execution_count": 81,
     "metadata": {},
     "output_type": "execute_result"
    }
   ],
   "source": [
    "53 !=46"
   ]
  },
  {
   "cell_type": "code",
   "execution_count": 82,
   "id": "9811c5af",
   "metadata": {},
   "outputs": [
    {
     "data": {
      "text/plain": [
       "False"
      ]
     },
     "execution_count": 82,
     "metadata": {},
     "output_type": "execute_result"
    }
   ],
   "source": [
    "False or not True and not False"
   ]
  },
  {
   "cell_type": "code",
   "execution_count": 83,
   "id": "94287a28",
   "metadata": {},
   "outputs": [
    {
     "data": {
      "text/plain": [
       "True"
      ]
     },
     "execution_count": 83,
     "metadata": {},
     "output_type": "execute_result"
    }
   ],
   "source": [
    "True and not False and True or not False"
   ]
  },
  {
   "cell_type": "code",
   "execution_count": 84,
   "id": "c2461119",
   "metadata": {},
   "outputs": [
    {
     "data": {
      "text/plain": [
       "True"
      ]
     },
     "execution_count": 84,
     "metadata": {},
     "output_type": "execute_result"
    }
   ],
   "source": [
    "True or False and False"
   ]
  },
  {
   "cell_type": "code",
   "execution_count": 85,
   "id": "0e0d3b85",
   "metadata": {},
   "outputs": [
    {
     "data": {
      "text/plain": [
       "False"
      ]
     },
     "execution_count": 85,
     "metadata": {},
     "output_type": "execute_result"
    }
   ],
   "source": [
    "False and True or False"
   ]
  },
  {
   "cell_type": "markdown",
   "id": "614e11a7",
   "metadata": {},
   "source": [
    "Using an identity operator, verify that 10 is not the same as 12."
   ]
  },
  {
   "cell_type": "code",
   "execution_count": 92,
   "id": "d0a01f5a",
   "metadata": {},
   "outputs": [
    {
     "name": "stderr",
     "output_type": "stream",
     "text": [
      "<>:1: SyntaxWarning: \"is not\" with a literal. Did you mean \"!=\"?\n",
      "<>:1: SyntaxWarning: \"is not\" with a literal. Did you mean \"!=\"?\n",
      "C:\\Users\\Yoga\\AppData\\Local\\Temp\\ipykernel_18504\\2742155778.py:1: SyntaxWarning: \"is not\" with a literal. Did you mean \"!=\"?\n",
      "  10 is not 12\n"
     ]
    },
    {
     "data": {
      "text/plain": [
       "True"
      ]
     },
     "execution_count": 92,
     "metadata": {},
     "output_type": "execute_result"
    }
   ],
   "source": [
    "10 is not 12"
   ]
  },
  {
   "cell_type": "code",
   "execution_count": 93,
   "id": "f1d48b0d",
   "metadata": {},
   "outputs": [
    {
     "name": "stderr",
     "output_type": "stream",
     "text": [
      "<>:1: SyntaxWarning: \"is\" with a literal. Did you mean \"==\"?\n",
      "<>:1: SyntaxWarning: \"is\" with a literal. Did you mean \"==\"?\n",
      "C:\\Users\\Yoga\\AppData\\Local\\Temp\\ipykernel_18504\\3061638254.py:1: SyntaxWarning: \"is\" with a literal. Did you mean \"==\"?\n",
      "  50 is 50\n"
     ]
    },
    {
     "data": {
      "text/plain": [
       "True"
      ]
     },
     "execution_count": 93,
     "metadata": {},
     "output_type": "execute_result"
    }
   ],
   "source": [
    " 50 is 50"
   ]
  },
  {
   "cell_type": "markdown",
   "id": "17df0019",
   "metadata": {},
   "source": [
    "# Conditional Statements"
   ]
  },
  {
   "cell_type": "markdown",
   "id": "4039727e",
   "metadata": {},
   "source": [
    "Create a two-line code that prints \"The condition has been satisfied\" if 5 is greater than 2.\n",
    "\n"
   ]
  },
  {
   "cell_type": "code",
   "execution_count": 94,
   "id": "310b0350",
   "metadata": {},
   "outputs": [
    {
     "name": "stdout",
     "output_type": "stream",
     "text": [
      "The condition has been satisfied\n"
     ]
    }
   ],
   "source": [
    "if 5>2:\n",
    "    print(\"The condition has been satisfied\")"
   ]
  },
  {
   "cell_type": "markdown",
   "id": "07c9ebf7",
   "metadata": {},
   "source": [
    "Assign 10 to the variable x and 25 to the variable y. In the same cell, create 2 conditional statements. Let the first one print \"Both conditions are correct\" if x is greater then 3 and y is greater than 13. Let the second one print \"At least one of the conditions is false\" if x is less than or equal to 3 or y is less than or equal to 13. Change the values assigned to x and y and re-run the cell to verify your code still works.\n"
   ]
  },
  {
   "cell_type": "code",
   "execution_count": 100,
   "id": "9159228f",
   "metadata": {},
   "outputs": [
    {
     "name": "stdout",
     "output_type": "stream",
     "text": [
      "Both conditions are correct\n"
     ]
    }
   ],
   "source": [
    "x=10\n",
    "y=25\n",
    "if x>3 and y>13:\n",
    "    print(\"Both conditions are correct\")"
   ]
  },
  {
   "cell_type": "code",
   "execution_count": 101,
   "id": "d3706750",
   "metadata": {},
   "outputs": [
    {
     "name": "stdout",
     "output_type": "stream",
     "text": [
      "At least one of the conditions is false\n"
     ]
    }
   ],
   "source": [
    "x=1\n",
    "y=25\n",
    "if x<=3 or y<=13:\n",
    "    print(\"At least one of the conditions is false\")"
   ]
  },
  {
   "cell_type": "markdown",
   "id": "4542e0b3",
   "metadata": {},
   "source": [
    "Let x represent the number of orders received during a certain day. Create a program that prints \"A busy day\" if x is greater than 100, and \"A calm day\" otherwise."
   ]
  },
  {
   "cell_type": "code",
   "execution_count": 103,
   "id": "18f1ffd0",
   "metadata": {},
   "outputs": [
    {
     "name": "stdout",
     "output_type": "stream",
     "text": [
      "A busy day\n"
     ]
    }
   ],
   "source": [
    "x=200\n",
    "if x>100:\n",
    "    print(\"A busy day\")\n",
    "else:\n",
    "    print(\"A calm day\")"
   ]
  },
  {
   "cell_type": "markdown",
   "id": "72300f72",
   "metadata": {},
   "source": [
    "Create the following piece of code: If x > 200, print out \"Big\"; If x > 100 and x <= 200, print out \"Average\"; and If x <= 100, print out \"Small\". Use the if, elif, and else keywords in your code."
   ]
  },
  {
   "cell_type": "code",
   "execution_count": 111,
   "id": "4e38e23c",
   "metadata": {},
   "outputs": [],
   "source": [
    "def comparison(x):\n",
    "    if x>200:\n",
    "        print(\"Big\")\n",
    "    elif x<=200 and x>100:\n",
    "        print(\"Average\")\n",
    "    elif x<=100:\n",
    "        print(\"Small\")\n",
    "        "
   ]
  },
  {
   "cell_type": "code",
   "execution_count": 112,
   "id": "a729587e",
   "metadata": {},
   "outputs": [
    {
     "name": "stdout",
     "output_type": "stream",
     "text": [
      "Small\n"
     ]
    }
   ],
   "source": [
    "comparison(5)"
   ]
  },
  {
   "cell_type": "markdown",
   "id": "806e2074",
   "metadata": {},
   "source": [
    "Keep the first two conditions of the code from the previous exercise (if x > 200, print out \"Big\"; If x > 100 and x <= 200, print out \"Average\").\n",
    "\n",
    "Add a new elif statement, so that, eventually, the program prints \"Small\" if x >= 0 and x <= 100, and \"Negative\" if x < 0."
   ]
  },
  {
   "cell_type": "code",
   "execution_count": 113,
   "id": "7716c90e",
   "metadata": {},
   "outputs": [
    {
     "name": "stdout",
     "output_type": "stream",
     "text": [
      "Small\n"
     ]
    }
   ],
   "source": [
    "x = 0\n",
    "\n",
    "if x > 200: \n",
    "    print (\"Big\")\n",
    "elif x > 100 and x <= 200:\n",
    "    print (\"Average\")\n",
    "elif x >= 0 and x <= 100:\n",
    "    print(\"Small\")\n",
    "elif x<0:\n",
    "    print (\"Negative\")"
   ]
  },
  {
   "cell_type": "markdown",
   "id": "acf71163",
   "metadata": {},
   "source": [
    "# Functions"
   ]
  },
  {
   "cell_type": "markdown",
   "id": "7592b902",
   "metadata": {},
   "source": [
    "Define a function called multiplication_by_2(x) that returns a value equal to its argument multiplied by 2."
   ]
  },
  {
   "cell_type": "code",
   "execution_count": 121,
   "id": "6f6abd0c",
   "metadata": {},
   "outputs": [],
   "source": [
    "def multiplication_by_2(x):\n",
    "    return (x*2)"
   ]
  },
  {
   "cell_type": "code",
   "execution_count": 122,
   "id": "e733eeac",
   "metadata": {},
   "outputs": [
    {
     "data": {
      "text/plain": [
       "20"
      ]
     },
     "execution_count": 122,
     "metadata": {},
     "output_type": "execute_result"
    }
   ],
   "source": [
    "multiplication_by_2(10)"
   ]
  },
  {
   "cell_type": "markdown",
   "id": "5031058d",
   "metadata": {},
   "source": [
    "Define a function called division_by_2(x) that returns a float value equal to its argument divided by 2."
   ]
  },
  {
   "cell_type": "code",
   "execution_count": 119,
   "id": "1aaf9ebc",
   "metadata": {},
   "outputs": [],
   "source": [
    "def division_by_2(x):\n",
    "    return(float(x)/2)"
   ]
  },
  {
   "cell_type": "code",
   "execution_count": 120,
   "id": "cb17937a",
   "metadata": {},
   "outputs": [
    {
     "data": {
      "text/plain": [
       "4.5"
      ]
     },
     "execution_count": 120,
     "metadata": {},
     "output_type": "execute_result"
    }
   ],
   "source": [
    "division_by_2(9)"
   ]
  },
  {
   "cell_type": "markdown",
   "id": "0e9e9fec",
   "metadata": {},
   "source": [
    "Define a function called exponentiation_exp_2(x) that states the value of the argument accompanied by the phrase \"Raised to the power of 2:\" and returns a value equal to its argument raised to the power of 2. This time, use a new variable, called result, in the body of the Function. Call the function with some argument to verify it works properly.\n",
    "\n"
   ]
  },
  {
   "cell_type": "code",
   "execution_count": 133,
   "id": "d71f6a3a",
   "metadata": {},
   "outputs": [],
   "source": [
    "def exponentiation_exp_2(x):\n",
    "    print(\"Raised to the power of 2:\")\n",
    "    return x**2"
   ]
  },
  {
   "cell_type": "code",
   "execution_count": 134,
   "id": "4147e965",
   "metadata": {},
   "outputs": [
    {
     "name": "stdout",
     "output_type": "stream",
     "text": [
      "Raised to the power of 2:\n"
     ]
    },
    {
     "data": {
      "text/plain": [
       "25"
      ]
     },
     "execution_count": 134,
     "metadata": {},
     "output_type": "execute_result"
    }
   ],
   "source": [
    "exponentiation_exp_2(5)"
   ]
  },
  {
   "cell_type": "markdown",
   "id": "9789cdb5",
   "metadata": {},
   "source": [
    "Define a function called plus_five() that adds 5 to its argument. Then, define another function named m_by_3() that multiplies the argument (the result obtained from plus_five()) by 3. Verify your code was correct by calling the second function with an argument of 5. Was your output equal to 30?\n"
   ]
  },
  {
   "cell_type": "code",
   "execution_count": 137,
   "id": "5b0b50e9",
   "metadata": {},
   "outputs": [],
   "source": [
    "def plus_five(x):\n",
    "    return x+5\n",
    "def m_by_3():\n",
    "    return plus_five(x) *3"
   ]
  },
  {
   "cell_type": "code",
   "execution_count": 140,
   "id": "8896f2ca",
   "metadata": {},
   "outputs": [
    {
     "data": {
      "text/plain": [
       "(8, 15)"
      ]
     },
     "execution_count": 140,
     "metadata": {},
     "output_type": "execute_result"
    }
   ],
   "source": [
    "plus_five(3), m_by_3()"
   ]
  },
  {
   "cell_type": "markdown",
   "id": "9a935726",
   "metadata": {},
   "source": [
    "Define a function, called compare_the_two(), with two arguments. If the first one is greater than the second one, let it print \"Greater\". If the second one is greater, it should print \"Less\". Let it print \"Equal\" if the two values are the same number."
   ]
  },
  {
   "cell_type": "code",
   "execution_count": 141,
   "id": "bda2e470",
   "metadata": {},
   "outputs": [],
   "source": [
    "def compare_the_two(x,y):\n",
    "    if x>y:\n",
    "        return \"Greater\"\n",
    "    elif x<y:\n",
    "        return \"Less\"\n",
    "    elif x==y:\n",
    "        return \"Equal\""
   ]
  },
  {
   "cell_type": "code",
   "execution_count": 144,
   "id": "c50ddabf",
   "metadata": {},
   "outputs": [
    {
     "data": {
      "text/plain": [
       "'Less'"
      ]
     },
     "execution_count": 144,
     "metadata": {},
     "output_type": "execute_result"
    }
   ],
   "source": [
    "compare_the_two(2,4)"
   ]
  },
  {
   "cell_type": "markdown",
   "id": "0037412d",
   "metadata": {},
   "source": [
    "Obtain the maximum number among the values 25, 65, 890, and 15."
   ]
  },
  {
   "cell_type": "code",
   "execution_count": 145,
   "id": "2980d9a8",
   "metadata": {},
   "outputs": [
    {
     "data": {
      "text/plain": [
       "890"
      ]
     },
     "execution_count": 145,
     "metadata": {},
     "output_type": "execute_result"
    }
   ],
   "source": [
    "max(25,65,890,15)"
   ]
  },
  {
   "cell_type": "markdown",
   "id": "f513a33e",
   "metadata": {},
   "source": [
    "Obtain the minimum number among the values 25, 65, 890, and 15."
   ]
  },
  {
   "cell_type": "code",
   "execution_count": 148,
   "id": "d9c56dd2",
   "metadata": {},
   "outputs": [
    {
     "data": {
      "text/plain": [
       "15"
      ]
     },
     "execution_count": 148,
     "metadata": {},
     "output_type": "execute_result"
    }
   ],
   "source": [
    "min(25, 65, 890,15)"
   ]
  },
  {
   "cell_type": "markdown",
   "id": "4327d4b7",
   "metadata": {},
   "source": [
    "Find the absolute value of -100.\n"
   ]
  },
  {
   "cell_type": "code",
   "execution_count": 151,
   "id": "dc177f3c",
   "metadata": {},
   "outputs": [
    {
     "data": {
      "text/plain": [
       "100"
      ]
     },
     "execution_count": 151,
     "metadata": {},
     "output_type": "execute_result"
    }
   ],
   "source": [
    "abs(-100)"
   ]
  },
  {
   "cell_type": "markdown",
   "id": "43bc694b",
   "metadata": {},
   "source": [
    "Round the value of 55.5.\n"
   ]
  },
  {
   "cell_type": "code",
   "execution_count": 159,
   "id": "20c4182d",
   "metadata": {},
   "outputs": [
    {
     "data": {
      "text/plain": [
       "56"
      ]
     },
     "execution_count": 159,
     "metadata": {},
     "output_type": "execute_result"
    }
   ],
   "source": [
    "round(55.5)"
   ]
  },
  {
   "cell_type": "markdown",
   "id": "f937356b",
   "metadata": {},
   "source": [
    "Round 35.56789 to the third digit."
   ]
  },
  {
   "cell_type": "code",
   "execution_count": 160,
   "id": "453904f4",
   "metadata": {},
   "outputs": [
    {
     "data": {
      "text/plain": [
       "35.568"
      ]
     },
     "execution_count": 160,
     "metadata": {},
     "output_type": "execute_result"
    }
   ],
   "source": [
    "round(35.56789,3)"
   ]
  },
  {
   "cell_type": "code",
   "execution_count": 161,
   "id": "1ac3cb9b",
   "metadata": {},
   "outputs": [
    {
     "data": {
      "text/plain": [
       "94.5"
      ]
     },
     "execution_count": 161,
     "metadata": {},
     "output_type": "execute_result"
    }
   ],
   "source": [
    "Numbers = [1, 5, 64, 24.5]\n",
    "sum(Numbers)"
   ]
  },
  {
   "cell_type": "markdown",
   "id": "a0f820c7",
   "metadata": {},
   "source": [
    "Use a built-in function to raise 10 to the power of 3."
   ]
  },
  {
   "cell_type": "code",
   "execution_count": 162,
   "id": "a7cb71d0",
   "metadata": {},
   "outputs": [
    {
     "data": {
      "text/plain": [
       "1000"
      ]
     },
     "execution_count": 162,
     "metadata": {},
     "output_type": "execute_result"
    }
   ],
   "source": [
    "pow(10,3)"
   ]
  },
  {
   "cell_type": "markdown",
   "id": "02df60ef",
   "metadata": {},
   "source": [
    "In one line of code, find how many characters there are in the word \"Elephant\"?"
   ]
  },
  {
   "cell_type": "code",
   "execution_count": 166,
   "id": "bc863af1",
   "metadata": {},
   "outputs": [
    {
     "data": {
      "text/plain": [
       "8"
      ]
     },
     "execution_count": 166,
     "metadata": {},
     "output_type": "execute_result"
    }
   ],
   "source": [
    "len(\"Elephant\")"
   ]
  },
  {
   "cell_type": "markdown",
   "id": "91d2c4bf",
   "metadata": {},
   "source": [
    "Create a function, called distance_from_zero(), that returns the absolute value of a provided single argument and prints a statement \"Not possible\" if the argument provided is not a number. To solve the task, use the type() function in the body of distance_from_zero().\n",
    "\n",
    "Call the function with the values of -10 and \"cat\" to verify it works correctly."
   ]
  },
  {
   "cell_type": "code",
   "execution_count": 187,
   "id": "331461a7",
   "metadata": {},
   "outputs": [],
   "source": [
    "def distance_from_zero(x):\n",
    "    if isinstance(x, (int, float)):\n",
    "        return abs(x)\n",
    "    else:\n",
    "        return \"Not possible\""
   ]
  },
  {
   "cell_type": "code",
   "execution_count": 188,
   "id": "7eef04ef",
   "metadata": {},
   "outputs": [
    {
     "data": {
      "text/plain": [
       "10"
      ]
     },
     "execution_count": 188,
     "metadata": {},
     "output_type": "execute_result"
    }
   ],
   "source": [
    "distance_from_zero(-10)"
   ]
  },
  {
   "cell_type": "code",
   "execution_count": 189,
   "id": "1c831f01",
   "metadata": {},
   "outputs": [
    {
     "data": {
      "text/plain": [
       "'Not possible'"
      ]
     },
     "execution_count": 189,
     "metadata": {},
     "output_type": "execute_result"
    }
   ],
   "source": [
    "distance_from_zero('cat')"
   ]
  },
  {
   "cell_type": "markdown",
   "id": "7b34bb17",
   "metadata": {},
   "source": [
    "Create a list, called Numbers. Let it contain the numbers 10, 25, 40, and 50.\n",
    "\n",
    "Print the element at index 2 from the list."
   ]
  },
  {
   "cell_type": "markdown",
   "id": "1dda59a2",
   "metadata": {},
   "source": [
    "# Python Sequences"
   ]
  },
  {
   "cell_type": "code",
   "execution_count": 1,
   "id": "cfadb1ab",
   "metadata": {},
   "outputs": [
    {
     "name": "stdout",
     "output_type": "stream",
     "text": [
      "40\n"
     ]
    }
   ],
   "source": [
    "Numbers =[10,25,40,50]\n",
    "print(Numbers[2])"
   ]
  },
  {
   "cell_type": "markdown",
   "id": "91e44286",
   "metadata": {},
   "source": [
    "Append the number 100 to the Numbers list."
   ]
  },
  {
   "cell_type": "code",
   "execution_count": 2,
   "id": "400e35b8",
   "metadata": {},
   "outputs": [],
   "source": [
    "Numbers = [15, 40, 50]\n",
    "Numbers.append(100)"
   ]
  },
  {
   "cell_type": "code",
   "execution_count": 3,
   "id": "d817b5d9",
   "metadata": {},
   "outputs": [
    {
     "data": {
      "text/plain": [
       "[15, 40, 50, 100]"
      ]
     },
     "execution_count": 3,
     "metadata": {},
     "output_type": "execute_result"
    }
   ],
   "source": [
    "Numbers"
   ]
  },
  {
   "cell_type": "markdown",
   "id": "51464676",
   "metadata": {},
   "source": [
    "With the help of the .extend() method, add the numbers 115 an 140 to the Numbers list.\n"
   ]
  },
  {
   "cell_type": "code",
   "execution_count": 4,
   "id": "aa455146",
   "metadata": {},
   "outputs": [],
   "source": [
    "Numbers = [15, 40, 50, 100]\n",
    "Numbers.extend([155,140])"
   ]
  },
  {
   "cell_type": "markdown",
   "id": "8d446ef2",
   "metadata": {},
   "source": [
    "Print a statement, saying \"The fourth element of the Numbers list is\" followed by the value of the fourth element of the Numbers list. Ensure you use a trailing comma to concatenate the statement with the value."
   ]
  },
  {
   "cell_type": "code",
   "execution_count": 8,
   "id": "5231cc7d",
   "metadata": {},
   "outputs": [
    {
     "name": "stdout",
     "output_type": "stream",
     "text": [
      "The fourth element of the Numbers list is 115 .\n"
     ]
    }
   ],
   "source": [
    "Numbers = [15, 40, 50, 100, 115, 140]\n",
    "print(\"The fourth element of the Numbers list is\" , Numbers[4] , '.' )"
   ]
  },
  {
   "cell_type": "code",
   "execution_count": 9,
   "id": "19de6f67",
   "metadata": {},
   "outputs": [
    {
     "data": {
      "text/plain": [
       "6"
      ]
     },
     "execution_count": 9,
     "metadata": {},
     "output_type": "execute_result"
    }
   ],
   "source": [
    "len(Numbers)"
   ]
  },
  {
   "cell_type": "markdown",
   "id": "dab451e6",
   "metadata": {},
   "source": [
    "Using list slicing, obtain the numbers 100 and 115."
   ]
  },
  {
   "cell_type": "code",
   "execution_count": 11,
   "id": "d304159a",
   "metadata": {},
   "outputs": [
    {
     "data": {
      "text/plain": [
       "[100, 115]"
      ]
     },
     "execution_count": 11,
     "metadata": {},
     "output_type": "execute_result"
    }
   ],
   "source": [
    "Numbers = [15, 40, 50, 100, 115, 140]\n",
    "Numbers[3:5]"
   ]
  },
  {
   "cell_type": "code",
   "execution_count": null,
   "id": "11eb377d",
   "metadata": {},
   "outputs": [],
   "source": [
    "Using slicing, extract the first four elements from the list."
   ]
  },
  {
   "cell_type": "code",
   "execution_count": 13,
   "id": "83ef8ad3",
   "metadata": {},
   "outputs": [
    {
     "data": {
      "text/plain": [
       "[15, 40, 50, 100]"
      ]
     },
     "execution_count": 13,
     "metadata": {},
     "output_type": "execute_result"
    }
   ],
   "source": [
    "Numbers = [15, 40, 50, 100, 115, 140]\n",
    "Numbers[:4]"
   ]
  },
  {
   "cell_type": "markdown",
   "id": "0092760c",
   "metadata": {},
   "source": [
    "Using slicing, extract all the elements from the list from the 3rd position onwards."
   ]
  },
  {
   "cell_type": "code",
   "execution_count": 15,
   "id": "310d87fb",
   "metadata": {},
   "outputs": [
    {
     "data": {
      "text/plain": [
       "[100, 115, 140]"
      ]
     },
     "execution_count": 15,
     "metadata": {},
     "output_type": "execute_result"
    }
   ],
   "source": [
    "Numbers = [15, 40, 50, 100, 115, 140]\n",
    "Numbers[3:]"
   ]
  },
  {
   "cell_type": "code",
   "execution_count": null,
   "id": "18f610b6",
   "metadata": {},
   "outputs": [],
   "source": [
    "Using slicing, extract the last 4 elements from the list."
   ]
  },
  {
   "cell_type": "code",
   "execution_count": 17,
   "id": "c963186c",
   "metadata": {},
   "outputs": [
    {
     "data": {
      "text/plain": [
       "[50, 100, 115, 140]"
      ]
     },
     "execution_count": 17,
     "metadata": {},
     "output_type": "execute_result"
    }
   ],
   "source": [
    "Numbers = [15, 40, 50, 100, 115, 140]\n",
    "Numbers[-4:]"
   ]
  },
  {
   "cell_type": "markdown",
   "id": "cb421ae8",
   "metadata": {},
   "source": [
    "Which is the position of the value 15?"
   ]
  },
  {
   "cell_type": "code",
   "execution_count": 20,
   "id": "96490954",
   "metadata": {},
   "outputs": [
    {
     "data": {
      "text/plain": [
       "0"
      ]
     },
     "execution_count": 20,
     "metadata": {},
     "output_type": "execute_result"
    }
   ],
   "source": [
    "Numbers = [15, 40, 50, 100, 115, 140]\n",
    "Numbers.index(15)"
   ]
  },
  {
   "cell_type": "markdown",
   "id": "7dbc6fcc",
   "metadata": {},
   "source": [
    "Create a list, called Two_Numbers. Let its elements be the values 1 and 2. Then, create a new one, named All_Numbers, that will contain both the Two_Numbers and the Numbers lists in the given order.\n",
    "\n"
   ]
  },
  {
   "cell_type": "code",
   "execution_count": 23,
   "id": "38f63d53",
   "metadata": {},
   "outputs": [
    {
     "data": {
      "text/plain": [
       "[[1, 2], [15, 40, 50, 100, 115, 140]]"
      ]
     },
     "execution_count": 23,
     "metadata": {},
     "output_type": "execute_result"
    }
   ],
   "source": [
    "Numbers = [15, 40, 50, 100, 115, 140]\n",
    "Two_Numbers = [1,2]\n",
    "All_Numbers= [Two_Numbers,Numbers]\n",
    "All_Numbers"
   ]
  },
  {
   "cell_type": "markdown",
   "id": "a253016e",
   "metadata": {},
   "source": [
    "Sort all the numbers in the Numbers list from the largest to the smallest."
   ]
  },
  {
   "cell_type": "code",
   "execution_count": 32,
   "id": "078ba2eb",
   "metadata": {},
   "outputs": [
    {
     "data": {
      "text/plain": [
       "[140, 115, 100, 50, 40, 15]"
      ]
     },
     "execution_count": 32,
     "metadata": {},
     "output_type": "execute_result"
    }
   ],
   "source": [
    "Numbers = [15, 40, 50, 100, 115, 140]\n",
    "Numbers.sort(reverse=True)\n",
    "Numbers"
   ]
  },
  {
   "cell_type": "markdown",
   "id": "4cb7c3a9",
   "metadata": {},
   "source": [
    "Create a tuple, called Cars, with elements \"BMW\", \"Dodge\", and \"Ford\" in the given order.\n",
    "\n"
   ]
  },
  {
   "cell_type": "code",
   "execution_count": 34,
   "id": "92c3b176",
   "metadata": {},
   "outputs": [
    {
     "data": {
      "text/plain": [
       "'Dodge'"
      ]
     },
     "execution_count": 34,
     "metadata": {},
     "output_type": "execute_result"
    }
   ],
   "source": [
    "Cars = (\"BMW\", \"Dodge\", \"Ford\")\n",
    "Cars[1]"
   ]
  },
  {
   "cell_type": "markdown",
   "id": "8a247486",
   "metadata": {},
   "source": [
    "Call a method that would allow you to extract the provided name and age separately. Then print the name and age values to see if you worked correctly.\n"
   ]
  },
  {
   "cell_type": "code",
   "execution_count": 36,
   "id": "2933bd1d",
   "metadata": {},
   "outputs": [],
   "source": [
    "name, age = 'Peter,24'.split(',')"
   ]
  },
  {
   "cell_type": "markdown",
   "id": "b0b372c2",
   "metadata": {},
   "source": [
    "Create a function called rectangle_info() that takes the length and width of a rectangle as arguments. The function should then return the area and the perimeter of the rectangle. Call the function with arguments 2 and 10 to verify it worked correctly.\n",
    "\n"
   ]
  },
  {
   "cell_type": "code",
   "execution_count": 1,
   "id": "4d9176a7",
   "metadata": {},
   "outputs": [],
   "source": [
    "def rectangle_info(l,w):\n",
    "    print( \"Area =\" , l*w)\n",
    "    return (\"parameter = \" , l+w)"
   ]
  },
  {
   "cell_type": "code",
   "execution_count": 2,
   "id": "eff39117",
   "metadata": {},
   "outputs": [
    {
     "name": "stdout",
     "output_type": "stream",
     "text": [
      "Area = 20\n"
     ]
    },
    {
     "data": {
      "text/plain": [
       "('parameter = ', 12)"
      ]
     },
     "execution_count": 2,
     "metadata": {},
     "output_type": "execute_result"
    }
   ],
   "source": [
    "rectangle_info(2,10)"
   ]
  },
  {
   "cell_type": "code",
   "execution_count": 3,
   "id": "07de4214",
   "metadata": {},
   "outputs": [
    {
     "name": "stdout",
     "output_type": "stream",
     "text": [
      "Area = 2\n"
     ]
    },
    {
     "data": {
      "text/plain": [
       "('parameter = ', 3)"
      ]
     },
     "execution_count": 3,
     "metadata": {},
     "output_type": "execute_result"
    }
   ],
   "source": [
    "rectangle_info(2,1)"
   ]
  },
  {
   "cell_type": "code",
   "execution_count": 4,
   "id": "09f0a9ed",
   "metadata": {},
   "outputs": [
    {
     "name": "stdout",
     "output_type": "stream",
     "text": [
      "Area = 8\n"
     ]
    },
    {
     "data": {
      "text/plain": [
       "('parameter = ', 6)"
      ]
     },
     "execution_count": 4,
     "metadata": {},
     "output_type": "execute_result"
    }
   ],
   "source": [
    "rectangle_info(2,4)"
   ]
  },
  {
   "cell_type": "code",
   "execution_count": null,
   "id": "ab567478",
   "metadata": {},
   "outputs": [],
   "source": []
  },
  {
   "cell_type": "code",
   "execution_count": null,
   "id": "baf63557",
   "metadata": {},
   "outputs": [],
   "source": []
  },
  {
   "cell_type": "code",
   "execution_count": null,
   "id": "b5b5f35b",
   "metadata": {},
   "outputs": [],
   "source": []
  },
  {
   "cell_type": "markdown",
   "id": "a8ae1a02",
   "metadata": {},
   "source": [
    "# Using Iterations"
   ]
  },
  {
   "cell_type": "code",
   "execution_count": null,
   "id": "ce043ed3",
   "metadata": {},
   "outputs": [],
   "source": []
  },
  {
   "cell_type": "code",
   "execution_count": null,
   "id": "1012e19a",
   "metadata": {},
   "outputs": [],
   "source": []
  },
  {
   "cell_type": "code",
   "execution_count": null,
   "id": "8fa2fae2",
   "metadata": {},
   "outputs": [],
   "source": [
    "\n",
    "\n",
    "\n"
   ]
  }
 ],
 "metadata": {
  "kernelspec": {
   "display_name": "Python 3 (ipykernel)",
   "language": "python",
   "name": "python3"
  },
  "language_info": {
   "codemirror_mode": {
    "name": "ipython",
    "version": 3
   },
   "file_extension": ".py",
   "mimetype": "text/x-python",
   "name": "python",
   "nbconvert_exporter": "python",
   "pygments_lexer": "ipython3",
   "version": "3.12.2"
  }
 },
 "nbformat": 4,
 "nbformat_minor": 5
}
